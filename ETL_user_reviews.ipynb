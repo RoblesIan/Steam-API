{
 "cells": [
  {
   "cell_type": "code",
   "execution_count": 1,
   "metadata": {},
   "outputs": [],
   "source": [
    "# imports necesarios, ruta y gestación del dataframe\n",
    "import pandas as pd\n",
    "\n",
    "# rutas\n",
    "ruta_user_reviews = 'dataset/user_reviews.parquet'\n",
    "\n",
    "# dataframes\n",
    "user_revies_df = pd.read_parquet(ruta_user_reviews)"
   ]
  }
 ],
 "metadata": {
  "kernelspec": {
   "display_name": "Python 3",
   "language": "python",
   "name": "python3"
  },
  "language_info": {
   "codemirror_mode": {
    "name": "ipython",
    "version": 3
   },
   "file_extension": ".py",
   "mimetype": "text/x-python",
   "name": "python",
   "nbconvert_exporter": "python",
   "pygments_lexer": "ipython3",
   "version": "3.11.3"
  }
 },
 "nbformat": 4,
 "nbformat_minor": 2
}
